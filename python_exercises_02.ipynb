{
  "nbformat": 4,
  "nbformat_minor": 0,
  "metadata": {
    "colab": {
      "name": "python_exercises_02.ipynb",
      "provenance": [],
      "include_colab_link": true
    },
    "kernelspec": {
      "name": "python3",
      "display_name": "Python 3"
    }
  },
  "cells": [
    {
      "cell_type": "markdown",
      "metadata": {
        "id": "view-in-github",
        "colab_type": "text"
      },
      "source": [
        "<a href=\"https://colab.research.google.com/github/othonrangel/br-python-condensed/blob/main/python_exercises_02.ipynb\" target=\"_parent\"><img src=\"https://colab.research.google.com/assets/colab-badge.svg\" alt=\"Open In Colab\"/></a>"
      ]
    },
    {
      "cell_type": "markdown",
      "metadata": {
        "id": "8YqaSZgXYJ5g"
      },
      "source": [
        "![](https://i.imgur.com/YX6UATs.png)\n"
      ]
    },
    {
      "cell_type": "markdown",
      "metadata": {
        "id": "hhUVzDipaGb9"
      },
      "source": [
        "### **Exercícios de Python - 2** \n",
        "\n",
        "\n",
        "\n"
      ]
    },
    {
      "cell_type": "markdown",
      "metadata": {
        "id": "c62cM2VlKFqN"
      },
      "source": [
        "1 - Faça um programa que leia um nome de usuário e a sua senha e não aceite a senha igual ao nome do usuário, mostrando uma mensagem de erro."
      ]
    },
    {
      "cell_type": "code",
      "metadata": {
        "id": "A3ajzaOSq69B"
      },
      "source": [
        "def pass_user():\n",
        "  usuario = input(\"Favor informar o usuário: \")\n",
        "  senha = input(\"Favor informar a senha: \")\n",
        "  if usuario == senha:\n",
        "    print(\"ERRO: A senha não pode ser igual ao usuário\")\n",
        "  else:\n",
        "    print(\"Senha válida\")"
      ],
      "execution_count": 1,
      "outputs": []
    },
    {
      "cell_type": "code",
      "metadata": {
        "colab": {
          "base_uri": "https://localhost:8080/"
        },
        "id": "gjZmHF7XdthC",
        "outputId": "63e8d4bc-373c-4c5f-e24c-c62b9a7fd10b"
      },
      "source": [
        "pass_user()"
      ],
      "execution_count": 2,
      "outputs": [
        {
          "output_type": "stream",
          "text": [
            "Favor informar o usuário: orc\n",
            "Favor informar a senha: orc\n",
            "ERRO: A senha não pode ser igual ao usuário\n"
          ],
          "name": "stdout"
        }
      ]
    },
    {
      "cell_type": "markdown",
      "metadata": {
        "id": "qMGp-h8OaGqr"
      },
      "source": [
        "2 - Utilizando listas faça um programa que faça 5 perguntas para uma pessoa sobre um crime. As perguntas são:\n",
        "- \"Telefonou para a vítima?\"\n",
        "- \"Esteve no local do crime?\"\n",
        "- \"Mora perto da vítima?\"\n",
        "- \"Devia para a vítima?\"\n",
        "- \"Já trabalhou com a vítima?\" \\\n",
        "O programa deve no final emitir uma classificação sobre a participação da pessoa no crime. Se a pessoa responder positivamente a 2 questões ela deve ser classificada como \"Suspeita\", entre 3 e 4 como \"Cúmplice\" e 5 como \"Assassino\". Caso contrário, ele será classificado como \"Inocente\"."
      ]
    },
    {
      "cell_type": "code",
      "metadata": {
        "id": "kTg-D89NdCld"
      },
      "source": [
        "def cadastra_perguntas_crime():\n",
        "  nome = input('Favor informar seu nome:')\n",
        "  print('Responda as 5 perguntas com S (sim) ou N (não):')\n",
        "  q1 = input('Telefonou para a vítima?')\n",
        "  q2 =  input('Esteve no local do crime?')\n",
        "  q3 = input('Mora perto da vítima?')\n",
        "  q4 = input('Devia para a vítima?')\n",
        "  q5 = input('Já trabalhou com a vítima?')\n",
        "  sim = 0\n",
        "  lista_crime=[nome,q1,q2,q3,q4,q5]\n",
        "  #for item in lista_crime:\n",
        "  #  print(item)\n",
        "  for i in lista_crime:\n",
        "    if i == 'S':\n",
        "        sim=sim+1\n",
        "  if sim == 5:\n",
        "    print(f'Nome: {lista_crime[0]} é Assasino')\n",
        "  elif sim > 2:\n",
        "    print(f'Nome: {lista_crime[0]} é Cúmplice')\n",
        "  elif sim == 2:\n",
        "    print(f'Nome: {lista_crime[0]} é Suspeito')\n",
        "  else:\n",
        "    print(f'Nome: {lista_crime[0]} é Inocente')"
      ],
      "execution_count": 46,
      "outputs": []
    },
    {
      "cell_type": "code",
      "metadata": {
        "colab": {
          "base_uri": "https://localhost:8080/"
        },
        "id": "GYFXTdU9uphs",
        "outputId": "d7007413-2399-4269-ffc1-f63305bdee6c"
      },
      "source": [
        "cadastra_perguntas_crime()"
      ],
      "execution_count": 48,
      "outputs": [
        {
          "output_type": "stream",
          "text": [
            "Favor informar seu nome:OTHON\n",
            "Responda as 5 perguntas com S (sim) ou N (não):\n",
            "Telefonou para a vítima?N\n",
            "Esteve no local do crime?N\n",
            "Mora perto da vítima?N\n",
            "Devia para a vítima?N\n",
            "Já trabalhou com a vítima?N\n",
            "Nome: OTHON é Inocente\n"
          ],
          "name": "stdout"
        }
      ]
    },
    {
      "cell_type": "markdown",
      "metadata": {
        "id": "FTK9nE4pdB1D"
      },
      "source": [
        "3 - A lista abaixo possui nomes de alunos de uma classe. Crie um loop que imprima '{nome} é aluno da classe'\n"
      ]
    },
    {
      "cell_type": "code",
      "metadata": {
        "id": "nW4SbDxTmx4t"
      },
      "source": [
        "['Maria','João','Marcelo','Jonas','Laura','Luana']"
      ],
      "execution_count": null,
      "outputs": []
    },
    {
      "cell_type": "code",
      "metadata": {
        "id": "0sRr8MXCpbGP"
      },
      "source": [
        ""
      ],
      "execution_count": null,
      "outputs": []
    },
    {
      "cell_type": "markdown",
      "metadata": {
        "id": "_HbJNv8MaG4g"
      },
      "source": [
        "4 - Utilizando-se da mesma lista trabalhada acima e a lista dada abaixo, que contem as idades dos alunos, realize um loop que faça a iteração com as duas listas printando \"{nome} tem {idade} anos\".\n",
        "Dica: utilize *zip*()"
      ]
    },
    {
      "cell_type": "code",
      "metadata": {
        "id": "LJDxmAbJeO9V"
      },
      "source": [
        "[23,34,42,54,26,27]"
      ],
      "execution_count": null,
      "outputs": []
    },
    {
      "cell_type": "code",
      "metadata": {
        "id": "Kq1Lc7Ukps-V"
      },
      "source": [
        ""
      ],
      "execution_count": null,
      "outputs": []
    },
    {
      "cell_type": "markdown",
      "metadata": {
        "id": "0tkhm6EUaG1u"
      },
      "source": [
        "5 - Transforme as duas listas anteriores em um dicionário cuja chave é o nome e o valor é a idade."
      ]
    },
    {
      "cell_type": "code",
      "metadata": {
        "id": "MNINJ32eU45M"
      },
      "source": [
        ""
      ],
      "execution_count": null,
      "outputs": []
    },
    {
      "cell_type": "markdown",
      "metadata": {
        "id": "Lm1tOKThnU42"
      },
      "source": [
        "Exercícios adaptados de Python Brasil"
      ]
    }
  ]
}