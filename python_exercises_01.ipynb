{
  "nbformat": 4,
  "nbformat_minor": 0,
  "metadata": {
    "colab": {
      "name": "python_exercises_01.ipynb",
      "provenance": [],
      "include_colab_link": true
    },
    "kernelspec": {
      "name": "python3",
      "display_name": "Python 3"
    }
  },
  "cells": [
    {
      "cell_type": "markdown",
      "metadata": {
        "id": "view-in-github",
        "colab_type": "text"
      },
      "source": [
        "<a href=\"https://colab.research.google.com/github/othonrangel/br-python-condensed/blob/main/python_exercises_01.ipynb\" target=\"_parent\"><img src=\"https://colab.research.google.com/assets/colab-badge.svg\" alt=\"Open In Colab\"/></a>"
      ]
    },
    {
      "cell_type": "markdown",
      "metadata": {
        "id": "8YqaSZgXYJ5g"
      },
      "source": [
        "![](https://i.imgur.com/YX6UATs.png)\n"
      ]
    },
    {
      "cell_type": "markdown",
      "metadata": {
        "id": "hhUVzDipaGb9"
      },
      "source": [
        "### **Exercícios de Python - 1** \n",
        "\n",
        "\n",
        "\n"
      ]
    },
    {
      "cell_type": "markdown",
      "metadata": {
        "id": "7O6AZt8-aGlr"
      },
      "source": [
        "1 - Faça um Programa que peça dois números e imprima a soma.\n"
      ]
    },
    {
      "cell_type": "code",
      "metadata": {
        "id": "ibipMzmZcfIF",
        "colab": {
          "base_uri": "https://localhost:8080/"
        },
        "outputId": "23c0951f-9ee5-4939-fadd-1ff7fb08f5cf"
      },
      "source": [
        "num1 = input(\"Favor informar o primeiro numero: \")\n",
        "num2 = input(\"Favor informar o segundo numero: \")\n",
        "soma = int(num1)+int(num2)\n",
        "print (f\"A soma dos números é {soma}\")\n"
      ],
      "execution_count": null,
      "outputs": [
        {
          "output_type": "stream",
          "text": [
            "Favor informar o primeiro numero: 3\n",
            "Favor informar o segundo numero: 6\n",
            "A soma dos números é 9\n"
          ],
          "name": "stdout"
        }
      ]
    },
    {
      "cell_type": "markdown",
      "metadata": {
        "id": "c62cM2VlKFqN"
      },
      "source": [
        "2 - Faça uma função que informe a quantidade de dígitos de um determinado número inteiro informado."
      ]
    },
    {
      "cell_type": "code",
      "metadata": {
        "id": "M_5mNjNbKFMI"
      },
      "source": [
        "def count_dig(numero):\n",
        "  qtd_dig = len(str(numero))\n",
        "  return qtd_dig"
      ],
      "execution_count": null,
      "outputs": []
    },
    {
      "cell_type": "code",
      "metadata": {
        "id": "YUQlkWLHm3UE",
        "colab": {
          "base_uri": "https://localhost:8080/"
        },
        "outputId": "7a5f368a-19be-4fb5-dca6-eca15349dfb0"
      },
      "source": [
        "count_dig(100)"
      ],
      "execution_count": null,
      "outputs": [
        {
          "output_type": "execute_result",
          "data": {
            "text/plain": [
              "3"
            ]
          },
          "metadata": {
            "tags": []
          },
          "execution_count": 5
        }
      ]
    },
    {
      "cell_type": "markdown",
      "metadata": {
        "id": "qMGp-h8OaGqr"
      },
      "source": [
        "3 - Faça um programa, com uma função que necessite de três argumentos, e que forneça a soma desses três argumentos."
      ]
    },
    {
      "cell_type": "code",
      "metadata": {
        "id": "kTg-D89NdCld"
      },
      "source": [
        "def soma_numeros(num1,num2,num3):\n",
        "  soma = num1+num2+num3\n",
        "  return soma"
      ],
      "execution_count": null,
      "outputs": []
    },
    {
      "cell_type": "code",
      "metadata": {
        "id": "ShQ4dRjbnTNz",
        "colab": {
          "base_uri": "https://localhost:8080/"
        },
        "outputId": "c23198ff-dcc7-4a1b-dfcc-83cad55af155"
      },
      "source": [
        "soma_numeros(54,34,72)"
      ],
      "execution_count": null,
      "outputs": [
        {
          "output_type": "execute_result",
          "data": {
            "text/plain": [
              "160"
            ]
          },
          "metadata": {
            "tags": []
          },
          "execution_count": 8
        }
      ]
    },
    {
      "cell_type": "markdown",
      "metadata": {
        "id": "KdLXZftIaG60"
      },
      "source": [
        "4 - Faça um Programa que peça a temperatura em graus Celsius, transforme e mostre em graus Fahrenheit. \\\n",
        "*Dica: procure a fórmula para essa conversão na internet*"
      ]
    },
    {
      "cell_type": "code",
      "metadata": {
        "id": "990mQ6UhdwKl"
      },
      "source": [
        "def convert_cel_fah():\n",
        "  cel = input(\"Informe a temperatura em graus Celsius:\")\n",
        "  fah = round((float(cel) * (9/5)) + 32,2)\n",
        "  return fah"
      ],
      "execution_count": 3,
      "outputs": []
    },
    {
      "cell_type": "code",
      "metadata": {
        "id": "jryKVXjioS0H",
        "colab": {
          "base_uri": "https://localhost:8080/"
        },
        "outputId": "d615a95c-d7a6-411e-ff49-9bfc4b01dfad"
      },
      "source": [
        "convert_cel_fah()"
      ],
      "execution_count": 4,
      "outputs": [
        {
          "output_type": "stream",
          "text": [
            "Informe a temperatura em graus Celsius:30\n"
          ],
          "name": "stdout"
        },
        {
          "output_type": "execute_result",
          "data": {
            "text/plain": [
              "86.0"
            ]
          },
          "metadata": {
            "tags": []
          },
          "execution_count": 4
        }
      ]
    },
    {
      "cell_type": "markdown",
      "metadata": {
        "id": "FTK9nE4pdB1D"
      },
      "source": [
        "5 - Faça um Programa que pergunte quanto você ganha por hora e o número de horas trabalhadas no mês. Calcule e mostre o total do seu salário no referido mês.\n"
      ]
    },
    {
      "cell_type": "code",
      "metadata": {
        "id": "nW4SbDxTmx4t"
      },
      "source": [
        "def salario():\n",
        "  valor_hora = input(\"Informe o valor da sua hora trabalhada:\")\n",
        "  qtd_hora = input(\"Informe a quantidade de horas trabalhadas no mes:\")\n",
        "  total_salario = round(float(valor_hora) * float(qtd_hora),2)\n",
        "  return f\"Seu salário é {total_salario}\""
      ],
      "execution_count": 5,
      "outputs": []
    },
    {
      "cell_type": "code",
      "metadata": {
        "id": "ghJnmTQKvh4c",
        "colab": {
          "base_uri": "https://localhost:8080/",
          "height": 69
        },
        "outputId": "dc037cb3-52dd-4bbb-9672-1a8097906079"
      },
      "source": [
        "salario()"
      ],
      "execution_count": 7,
      "outputs": [
        {
          "output_type": "stream",
          "text": [
            "Informe o valor da sua hora trabalhada:100\n",
            "Informe a quantidade de horas trabalhadas no mes:140\n"
          ],
          "name": "stdout"
        },
        {
          "output_type": "execute_result",
          "data": {
            "application/vnd.google.colaboratory.intrinsic+json": {
              "type": "string"
            },
            "text/plain": [
              "'Seu salário é 14000.0'"
            ]
          },
          "metadata": {
            "tags": []
          },
          "execution_count": 7
        }
      ]
    },
    {
      "cell_type": "markdown",
      "metadata": {
        "id": "_HbJNv8MaG4g"
      },
      "source": [
        "6 - Faça um programa para uma loja de tintas. O programa deverá pedir o tamanho em metros quadrados da área a ser pintada. Considere que a cobertura da tinta é de 1 litro para cada 3 metros quadrados e que a tinta é vendida em latas de 18 litros, que custam R$ 80,00. Informe ao usuário a quantidades de latas de tinta a serem compradas e o preço total."
      ]
    },
    {
      "cell_type": "code",
      "metadata": {
        "id": "LJDxmAbJeO9V"
      },
      "source": [
        "def precifica_compra():\n",
        "  metragem = input(\"Informe o espaço em metros quadrados a ser pintado:\")\n",
        "  metro_por_lata = 18*3\n",
        "  preco_lata = 80\n",
        "  qtd_lata_inteira = float(metragem)//float(metro_por_lata)\n",
        "  qtd_lata_parte = float(metragem)%float(metro_por_lata) \n",
        "  if qtd_lata_parte > 0:\n",
        "    qtd_lata_inteira = qtd_lata_inteira + 1\n",
        "  preco_total = qtd_lata_inteira*preco_lata\n",
        "  return f\"Você precisa de {qtd_lata_inteira} que fica o total de R${preco_total}\"\n",
        "  "
      ],
      "execution_count": 13,
      "outputs": []
    },
    {
      "cell_type": "code",
      "metadata": {
        "colab": {
          "base_uri": "https://localhost:8080/",
          "height": 52
        },
        "id": "fjiP4G02dFi9",
        "outputId": "d313c16a-064b-4bd3-c26c-2c5e34cec2d4"
      },
      "source": [
        "precifica_compra()"
      ],
      "execution_count": 16,
      "outputs": [
        {
          "output_type": "stream",
          "text": [
            "Informe o espaço em metros quadrados a ser pintado:55\n"
          ],
          "name": "stdout"
        },
        {
          "output_type": "execute_result",
          "data": {
            "application/vnd.google.colaboratory.intrinsic+json": {
              "type": "string"
            },
            "text/plain": [
              "'Você precisa de 2.0 que fica o total de R$160.0'"
            ]
          },
          "metadata": {
            "tags": []
          },
          "execution_count": 16
        }
      ]
    },
    {
      "cell_type": "markdown",
      "metadata": {
        "id": "0tkhm6EUaG1u"
      },
      "source": [
        "7 - Faça um programa para a leitura de duas notas parciais de um aluno. O programa deve calcular a média alcançada por aluno e apresentar:\n",
        "- A mensagem \"Aprovado\", se a média alcançada for maior ou igual a sete;\n",
        "- A mensagem \"Reprovado\", se a média for menor do que sete;\n",
        "- A mensagem \"Aprovado com Distinção\", se a média for igual a dez."
      ]
    },
    {
      "cell_type": "code",
      "metadata": {
        "id": "MNINJ32eU45M"
      },
      "source": [
        "def resultado_final(nota1,nota2):\n",
        "  media = (float(nota1)+float(nota2))/2\n",
        "  if media == 10:\n",
        "    mensagem = \"Aprovado com Distinção\" \n",
        "  elif media >= 7:\n",
        "    mensagem = \"Aprovado\"\n",
        "  else:\n",
        "    mensagem = \"Reprovado\"\n",
        "  return media, mensagem"
      ],
      "execution_count": 22,
      "outputs": []
    },
    {
      "cell_type": "code",
      "metadata": {
        "colab": {
          "base_uri": "https://localhost:8080/"
        },
        "id": "NlXbV40FeI6S",
        "outputId": "777f41bd-8052-4a64-f970-80cd5888ef2c"
      },
      "source": [
        "resultado_final(10,0.5)"
      ],
      "execution_count": 26,
      "outputs": [
        {
          "output_type": "execute_result",
          "data": {
            "text/plain": [
              "(5.25, 'Reprovado')"
            ]
          },
          "metadata": {
            "tags": []
          },
          "execution_count": 26
        }
      ]
    },
    {
      "cell_type": "markdown",
      "metadata": {
        "id": "4OETBVgmaGzX"
      },
      "source": [
        "8 - Faça um Programa que peça um número inteiro e determine se ele é par ou impar. Dica: utilize o operador módulo (resto da divisão)."
      ]
    },
    {
      "cell_type": "code",
      "metadata": {
        "id": "WbzCimFZVSr1"
      },
      "source": [
        "def par_impar(num):\n",
        "  resto = int(num)%2\n",
        "  if resto > 0:\n",
        "    print('Numero impar')\n",
        "  else:\n",
        "    print('Numero par')"
      ],
      "execution_count": 27,
      "outputs": []
    },
    {
      "cell_type": "code",
      "metadata": {
        "colab": {
          "base_uri": "https://localhost:8080/"
        },
        "id": "8834_2F0f1hj",
        "outputId": "73b0edb4-5e16-43b5-8086-dd09695a3062"
      },
      "source": [
        "par_impar(84)"
      ],
      "execution_count": 29,
      "outputs": [
        {
          "output_type": "stream",
          "text": [
            "Numero par\n"
          ],
          "name": "stdout"
        }
      ]
    },
    {
      "cell_type": "markdown",
      "metadata": {
        "id": "7zPJ8sgPaGw0"
      },
      "source": [
        "9 - Faça um programa que peça o tamanho de um arquivo para download (em MB) e a velocidade de um link de Internet (em Mbps), calcule e informe o tempo aproximado de download do arquivo usando este link (em minutos)."
      ]
    },
    {
      "cell_type": "code",
      "metadata": {
        "id": "l4qtSxU7XquB"
      },
      "source": [
        "def tempo_download():\n",
        "  tam_arquivo_MB = input(\"Informe o tamanho do arquivo em MB:\")\n",
        "  vel_link = input(\"Informe a velocidade do link em Mbps:\")\n",
        "  tam_arquivo_mb = float(tam_arquivo_MB)*8\n",
        "  tempo_seg = tam_arquivo_mb/int(vel_link)\n",
        "  tempo_min = round(tempo_seg/60,2)\n",
        "  return f\"O tempo de download é {tempo_min} minutos ou {tempo_seg} segundos\""
      ],
      "execution_count": 36,
      "outputs": []
    },
    {
      "cell_type": "code",
      "metadata": {
        "colab": {
          "base_uri": "https://localhost:8080/",
          "height": 69
        },
        "id": "HeqNnPDXipGh",
        "outputId": "8a599144-c4a9-4201-b263-52aa351f0ad6"
      },
      "source": [
        "tempo_download()"
      ],
      "execution_count": 37,
      "outputs": [
        {
          "output_type": "stream",
          "text": [
            "Informe o tamanho do arquivo em MB:1024\n",
            "Informe a velocidade do link em Mbps:200\n"
          ],
          "name": "stdout"
        },
        {
          "output_type": "execute_result",
          "data": {
            "application/vnd.google.colaboratory.intrinsic+json": {
              "type": "string"
            },
            "text/plain": [
              "'O tempo de download é 0.68 minutos ou 40.96 segundos'"
            ]
          },
          "metadata": {
            "tags": []
          },
          "execution_count": 37
        }
      ]
    },
    {
      "cell_type": "markdown",
      "metadata": {
        "id": "Lm1tOKThnU42"
      },
      "source": [
        "Exercícios adaptados de Python Brasil"
      ]
    }
  ]
}